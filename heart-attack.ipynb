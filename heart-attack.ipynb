{
 "cells": [
  {
   "cell_type": "markdown",
   "metadata": {},
   "source": [
    "# Heart Attack Analysis & Prediction Dataset\n",
    "\n",
    "In this task you are asked to use `heart-data.csv` to train a support vector machine to predict heart attacks.\n",
    "\n",
    "See `Data description.docx` or `Data description.pdf` for description of dataset."
   ]
  },
  {
   "cell_type": "markdown",
   "metadata": {},
   "source": [
    "# Reading Dataset"
   ]
  },
  {
   "cell_type": "code",
   "execution_count": 96,
   "metadata": {},
   "outputs": [
    {
     "data": {
      "text/html": [
       "<div>\n",
       "<style scoped>\n",
       "    .dataframe tbody tr th:only-of-type {\n",
       "        vertical-align: middle;\n",
       "    }\n",
       "\n",
       "    .dataframe tbody tr th {\n",
       "        vertical-align: top;\n",
       "    }\n",
       "\n",
       "    .dataframe thead th {\n",
       "        text-align: right;\n",
       "    }\n",
       "</style>\n",
       "<table border=\"1\" class=\"dataframe\">\n",
       "  <thead>\n",
       "    <tr style=\"text-align: right;\">\n",
       "      <th></th>\n",
       "      <th>age</th>\n",
       "      <th>sex</th>\n",
       "      <th>cp</th>\n",
       "      <th>trtbps</th>\n",
       "      <th>chol</th>\n",
       "      <th>fbs</th>\n",
       "      <th>restecg</th>\n",
       "      <th>thalachh</th>\n",
       "      <th>exng</th>\n",
       "      <th>oldpeak</th>\n",
       "      <th>slp</th>\n",
       "      <th>caa</th>\n",
       "      <th>thall</th>\n",
       "      <th>output</th>\n",
       "    </tr>\n",
       "  </thead>\n",
       "  <tbody>\n",
       "    <tr>\n",
       "      <th>0</th>\n",
       "      <td>63</td>\n",
       "      <td>Male</td>\n",
       "      <td>Non-anginal pain</td>\n",
       "      <td>145</td>\n",
       "      <td>233</td>\n",
       "      <td>High</td>\n",
       "      <td>Hypertrophy</td>\n",
       "      <td>150</td>\n",
       "      <td>No</td>\n",
       "      <td>2.3</td>\n",
       "      <td>Down-sloping</td>\n",
       "      <td>0.0</td>\n",
       "      <td>Fixed defect</td>\n",
       "      <td>1</td>\n",
       "    </tr>\n",
       "    <tr>\n",
       "      <th>1</th>\n",
       "      <td>37</td>\n",
       "      <td>Male</td>\n",
       "      <td>Atypical angina</td>\n",
       "      <td>130</td>\n",
       "      <td>250</td>\n",
       "      <td>Low</td>\n",
       "      <td>Normal</td>\n",
       "      <td>187</td>\n",
       "      <td>No</td>\n",
       "      <td>3.5</td>\n",
       "      <td>Down-sloping</td>\n",
       "      <td>0.0</td>\n",
       "      <td>Normal</td>\n",
       "      <td>1</td>\n",
       "    </tr>\n",
       "    <tr>\n",
       "      <th>2</th>\n",
       "      <td>41</td>\n",
       "      <td>Female</td>\n",
       "      <td>Typical angina</td>\n",
       "      <td>130</td>\n",
       "      <td>204</td>\n",
       "      <td>Low</td>\n",
       "      <td>Hypertrophy</td>\n",
       "      <td>172</td>\n",
       "      <td>No</td>\n",
       "      <td>1.4</td>\n",
       "      <td>Up-sloping</td>\n",
       "      <td>0.0</td>\n",
       "      <td>Normal</td>\n",
       "      <td>1</td>\n",
       "    </tr>\n",
       "    <tr>\n",
       "      <th>3</th>\n",
       "      <td>56</td>\n",
       "      <td>Male</td>\n",
       "      <td>Typical angina</td>\n",
       "      <td>120</td>\n",
       "      <td>236</td>\n",
       "      <td>Low</td>\n",
       "      <td>Normal</td>\n",
       "      <td>178</td>\n",
       "      <td>No</td>\n",
       "      <td>0.8</td>\n",
       "      <td>Up-sloping</td>\n",
       "      <td>0.0</td>\n",
       "      <td>Normal</td>\n",
       "      <td>1</td>\n",
       "    </tr>\n",
       "    <tr>\n",
       "      <th>4</th>\n",
       "      <td>57</td>\n",
       "      <td>Female</td>\n",
       "      <td>Asymptomatic</td>\n",
       "      <td>120</td>\n",
       "      <td>354</td>\n",
       "      <td>Low</td>\n",
       "      <td>Normal</td>\n",
       "      <td>163</td>\n",
       "      <td>Yes</td>\n",
       "      <td>0.6</td>\n",
       "      <td>Up-sloping</td>\n",
       "      <td>0.0</td>\n",
       "      <td>Normal</td>\n",
       "      <td>1</td>\n",
       "    </tr>\n",
       "  </tbody>\n",
       "</table>\n",
       "</div>"
      ],
      "text/plain": [
       "   age     sex                cp  trtbps  chol   fbs      restecg  thalachh  \\\n",
       "0   63    Male  Non-anginal pain     145   233  High  Hypertrophy       150   \n",
       "1   37    Male   Atypical angina     130   250   Low       Normal       187   \n",
       "2   41  Female    Typical angina     130   204   Low  Hypertrophy       172   \n",
       "3   56    Male    Typical angina     120   236   Low       Normal       178   \n",
       "4   57  Female      Asymptomatic     120   354   Low       Normal       163   \n",
       "\n",
       "  exng  oldpeak           slp  caa         thall  output  \n",
       "0   No      2.3  Down-sloping  0.0  Fixed defect       1  \n",
       "1   No      3.5  Down-sloping  0.0        Normal       1  \n",
       "2   No      1.4    Up-sloping  0.0        Normal       1  \n",
       "3   No      0.8    Up-sloping  0.0        Normal       1  \n",
       "4  Yes      0.6    Up-sloping  0.0        Normal       1  "
      ]
     },
     "execution_count": 96,
     "metadata": {},
     "output_type": "execute_result"
    }
   ],
   "source": [
    "import pandas as pd\n",
    "\n",
    "data = pd.read_csv('heart-data.csv', na_values=[\"?\",'UNDEFINED'])\n",
    "\n",
    "data.head()"
   ]
  },
  {
   "cell_type": "markdown",
   "metadata": {},
   "source": [
    "# TODO\n",
    "1. Remove samples with missing data (there are **7 samples** with missing data).\n",
    "2. Split the data to input and output.\n",
    "3. Replace categorical values with numeric values (Use numeric encoding and one-hot encoding when suitable).\n",
    "4. Split the dataset to (train - validation - test) by calling `train_test_split` two times:\n",
    "    - First time: use `test_size=0.20` and `random_state=0`.\n",
    "    - Second time: use `test_size=0.25` and `random_state=0`.\n",
    "5. Apply feature scaling using `MinMaxScaler`.\n",
    "6. Train a support vector machine classifier using suitable hyper-parameter values. \n",
    "7. Print the accuracy of both training and validation. Try to achieve **validation accuracy > 82%**.\n",
    "8. Test your support vector machine and print accuracy of testing."
   ]
  },
  {
   "cell_type": "markdown",
   "metadata": {},
   "source": [
    "# 1) Removing missing values:-"
   ]
  },
  {
   "cell_type": "code",
   "execution_count": 137,
   "metadata": {},
   "outputs": [
    {
     "data": {
      "text/plain": [
       "age         False\n",
       "sex         False\n",
       "cp          False\n",
       "trtbps      False\n",
       "chol        False\n",
       "fbs         False\n",
       "restecg     False\n",
       "thalachh    False\n",
       "exng        False\n",
       "oldpeak     False\n",
       "slp         False\n",
       "caa          True\n",
       "thall        True\n",
       "output      False\n",
       "dtype: bool"
      ]
     },
     "execution_count": 137,
     "metadata": {},
     "output_type": "execute_result"
    }
   ],
   "source": [
    "mask=data.isnull().any(axis=0)\n",
    "mask"
   ]
  },
  {
   "cell_type": "code",
   "execution_count": 171,
   "metadata": {},
   "outputs": [
    {
     "data": {
      "text/plain": [
       "0      False\n",
       "1      False\n",
       "2      False\n",
       "3      False\n",
       "4      False\n",
       "       ...  \n",
       "298    False\n",
       "299    False\n",
       "300    False\n",
       "301    False\n",
       "302    False\n",
       "Length: 303, dtype: bool"
      ]
     },
     "execution_count": 171,
     "metadata": {},
     "output_type": "execute_result"
    }
   ],
   "source": [
    "mask=data.isnull().any(axis=1)\n",
    "mask"
   ]
  },
  {
   "cell_type": "code",
   "execution_count": 142,
   "metadata": {},
   "outputs": [
    {
     "name": "stdout",
     "output_type": "stream",
     "text": [
      "0.0231023102310231\n"
     ]
    },
    {
     "data": {
      "text/plain": [
       "age         0.000000\n",
       "sex         0.000000\n",
       "cp          0.000000\n",
       "trtbps      0.000000\n",
       "chol        0.000000\n",
       "fbs         0.000000\n",
       "restecg     0.000000\n",
       "thalachh    0.000000\n",
       "exng        0.000000\n",
       "oldpeak     0.000000\n",
       "slp         0.000000\n",
       "caa         0.016502\n",
       "thall       0.006601\n",
       "output      0.000000\n",
       "dtype: float64"
      ]
     },
     "execution_count": 142,
     "metadata": {},
     "output_type": "execute_result"
    }
   ],
   "source": [
    "num_of_rows_with_nan =mask.sum()  \n",
    "num_of_total_rows= len(data)\n",
    "print(num_of_rows_with_nan / num_of_total_rows )\n",
    "data.isnull().sum()/ len(data)"
   ]
  },
  {
   "cell_type": "code",
   "execution_count": 143,
   "metadata": {},
   "outputs": [
    {
     "data": {
      "text/html": [
       "<div>\n",
       "<style scoped>\n",
       "    .dataframe tbody tr th:only-of-type {\n",
       "        vertical-align: middle;\n",
       "    }\n",
       "\n",
       "    .dataframe tbody tr th {\n",
       "        vertical-align: top;\n",
       "    }\n",
       "\n",
       "    .dataframe thead th {\n",
       "        text-align: right;\n",
       "    }\n",
       "</style>\n",
       "<table border=\"1\" class=\"dataframe\">\n",
       "  <thead>\n",
       "    <tr style=\"text-align: right;\">\n",
       "      <th></th>\n",
       "      <th>age</th>\n",
       "      <th>sex</th>\n",
       "      <th>cp</th>\n",
       "      <th>trtbps</th>\n",
       "      <th>chol</th>\n",
       "      <th>fbs</th>\n",
       "      <th>restecg</th>\n",
       "      <th>thalachh</th>\n",
       "      <th>exng</th>\n",
       "      <th>oldpeak</th>\n",
       "      <th>slp</th>\n",
       "      <th>caa</th>\n",
       "      <th>thall</th>\n",
       "      <th>output</th>\n",
       "    </tr>\n",
       "  </thead>\n",
       "  <tbody>\n",
       "    <tr>\n",
       "      <th>0</th>\n",
       "      <td>63</td>\n",
       "      <td>Male</td>\n",
       "      <td>Non-anginal pain</td>\n",
       "      <td>145</td>\n",
       "      <td>233</td>\n",
       "      <td>High</td>\n",
       "      <td>Hypertrophy</td>\n",
       "      <td>150</td>\n",
       "      <td>No</td>\n",
       "      <td>2.3</td>\n",
       "      <td>Down-sloping</td>\n",
       "      <td>0.0</td>\n",
       "      <td>Fixed defect</td>\n",
       "      <td>1</td>\n",
       "    </tr>\n",
       "    <tr>\n",
       "      <th>1</th>\n",
       "      <td>37</td>\n",
       "      <td>Male</td>\n",
       "      <td>Atypical angina</td>\n",
       "      <td>130</td>\n",
       "      <td>250</td>\n",
       "      <td>Low</td>\n",
       "      <td>Normal</td>\n",
       "      <td>187</td>\n",
       "      <td>No</td>\n",
       "      <td>3.5</td>\n",
       "      <td>Down-sloping</td>\n",
       "      <td>0.0</td>\n",
       "      <td>Normal</td>\n",
       "      <td>1</td>\n",
       "    </tr>\n",
       "    <tr>\n",
       "      <th>2</th>\n",
       "      <td>41</td>\n",
       "      <td>Female</td>\n",
       "      <td>Typical angina</td>\n",
       "      <td>130</td>\n",
       "      <td>204</td>\n",
       "      <td>Low</td>\n",
       "      <td>Hypertrophy</td>\n",
       "      <td>172</td>\n",
       "      <td>No</td>\n",
       "      <td>1.4</td>\n",
       "      <td>Up-sloping</td>\n",
       "      <td>0.0</td>\n",
       "      <td>Normal</td>\n",
       "      <td>1</td>\n",
       "    </tr>\n",
       "    <tr>\n",
       "      <th>3</th>\n",
       "      <td>56</td>\n",
       "      <td>Male</td>\n",
       "      <td>Typical angina</td>\n",
       "      <td>120</td>\n",
       "      <td>236</td>\n",
       "      <td>Low</td>\n",
       "      <td>Normal</td>\n",
       "      <td>178</td>\n",
       "      <td>No</td>\n",
       "      <td>0.8</td>\n",
       "      <td>Up-sloping</td>\n",
       "      <td>0.0</td>\n",
       "      <td>Normal</td>\n",
       "      <td>1</td>\n",
       "    </tr>\n",
       "    <tr>\n",
       "      <th>4</th>\n",
       "      <td>57</td>\n",
       "      <td>Female</td>\n",
       "      <td>Asymptomatic</td>\n",
       "      <td>120</td>\n",
       "      <td>354</td>\n",
       "      <td>Low</td>\n",
       "      <td>Normal</td>\n",
       "      <td>163</td>\n",
       "      <td>Yes</td>\n",
       "      <td>0.6</td>\n",
       "      <td>Up-sloping</td>\n",
       "      <td>0.0</td>\n",
       "      <td>Normal</td>\n",
       "      <td>1</td>\n",
       "    </tr>\n",
       "  </tbody>\n",
       "</table>\n",
       "</div>"
      ],
      "text/plain": [
       "   age     sex                cp  trtbps  chol   fbs      restecg  thalachh  \\\n",
       "0   63    Male  Non-anginal pain     145   233  High  Hypertrophy       150   \n",
       "1   37    Male   Atypical angina     130   250   Low       Normal       187   \n",
       "2   41  Female    Typical angina     130   204   Low  Hypertrophy       172   \n",
       "3   56    Male    Typical angina     120   236   Low       Normal       178   \n",
       "4   57  Female      Asymptomatic     120   354   Low       Normal       163   \n",
       "\n",
       "  exng  oldpeak           slp  caa         thall  output  \n",
       "0   No      2.3  Down-sloping  0.0  Fixed defect       1  \n",
       "1   No      3.5  Down-sloping  0.0        Normal       1  \n",
       "2   No      1.4    Up-sloping  0.0        Normal       1  \n",
       "3   No      0.8    Up-sloping  0.0        Normal       1  \n",
       "4  Yes      0.6    Up-sloping  0.0        Normal       1  "
      ]
     },
     "execution_count": 143,
     "metadata": {},
     "output_type": "execute_result"
    }
   ],
   "source": [
    "dta_clean = data[~mask]\n",
    "data_clean.head()"
   ]
  },
  {
   "cell_type": "code",
   "execution_count": 148,
   "metadata": {},
   "outputs": [
    {
     "data": {
      "text/html": [
       "<div>\n",
       "<style scoped>\n",
       "    .dataframe tbody tr th:only-of-type {\n",
       "        vertical-align: middle;\n",
       "    }\n",
       "\n",
       "    .dataframe tbody tr th {\n",
       "        vertical-align: top;\n",
       "    }\n",
       "\n",
       "    .dataframe thead th {\n",
       "        text-align: right;\n",
       "    }\n",
       "</style>\n",
       "<table border=\"1\" class=\"dataframe\">\n",
       "  <thead>\n",
       "    <tr style=\"text-align: right;\">\n",
       "      <th></th>\n",
       "      <th>age</th>\n",
       "      <th>sex</th>\n",
       "      <th>cp</th>\n",
       "      <th>trtbps</th>\n",
       "      <th>chol</th>\n",
       "      <th>fbs</th>\n",
       "      <th>restecg</th>\n",
       "      <th>thalachh</th>\n",
       "      <th>exng</th>\n",
       "      <th>oldpeak</th>\n",
       "      <th>slp</th>\n",
       "      <th>output</th>\n",
       "    </tr>\n",
       "  </thead>\n",
       "  <tbody>\n",
       "    <tr>\n",
       "      <th>0</th>\n",
       "      <td>63</td>\n",
       "      <td>Male</td>\n",
       "      <td>Non-anginal pain</td>\n",
       "      <td>145</td>\n",
       "      <td>233</td>\n",
       "      <td>High</td>\n",
       "      <td>Hypertrophy</td>\n",
       "      <td>150</td>\n",
       "      <td>No</td>\n",
       "      <td>2.3</td>\n",
       "      <td>Down-sloping</td>\n",
       "      <td>1</td>\n",
       "    </tr>\n",
       "    <tr>\n",
       "      <th>1</th>\n",
       "      <td>37</td>\n",
       "      <td>Male</td>\n",
       "      <td>Atypical angina</td>\n",
       "      <td>130</td>\n",
       "      <td>250</td>\n",
       "      <td>Low</td>\n",
       "      <td>Normal</td>\n",
       "      <td>187</td>\n",
       "      <td>No</td>\n",
       "      <td>3.5</td>\n",
       "      <td>Down-sloping</td>\n",
       "      <td>1</td>\n",
       "    </tr>\n",
       "    <tr>\n",
       "      <th>2</th>\n",
       "      <td>41</td>\n",
       "      <td>Female</td>\n",
       "      <td>Typical angina</td>\n",
       "      <td>130</td>\n",
       "      <td>204</td>\n",
       "      <td>Low</td>\n",
       "      <td>Hypertrophy</td>\n",
       "      <td>172</td>\n",
       "      <td>No</td>\n",
       "      <td>1.4</td>\n",
       "      <td>Up-sloping</td>\n",
       "      <td>1</td>\n",
       "    </tr>\n",
       "    <tr>\n",
       "      <th>3</th>\n",
       "      <td>56</td>\n",
       "      <td>Male</td>\n",
       "      <td>Typical angina</td>\n",
       "      <td>120</td>\n",
       "      <td>236</td>\n",
       "      <td>Low</td>\n",
       "      <td>Normal</td>\n",
       "      <td>178</td>\n",
       "      <td>No</td>\n",
       "      <td>0.8</td>\n",
       "      <td>Up-sloping</td>\n",
       "      <td>1</td>\n",
       "    </tr>\n",
       "    <tr>\n",
       "      <th>4</th>\n",
       "      <td>57</td>\n",
       "      <td>Female</td>\n",
       "      <td>Asymptomatic</td>\n",
       "      <td>120</td>\n",
       "      <td>354</td>\n",
       "      <td>Low</td>\n",
       "      <td>Normal</td>\n",
       "      <td>163</td>\n",
       "      <td>Yes</td>\n",
       "      <td>0.6</td>\n",
       "      <td>Up-sloping</td>\n",
       "      <td>1</td>\n",
       "    </tr>\n",
       "  </tbody>\n",
       "</table>\n",
       "</div>"
      ],
      "text/plain": [
       "   age     sex                cp  trtbps  chol   fbs      restecg  thalachh  \\\n",
       "0   63    Male  Non-anginal pain     145   233  High  Hypertrophy       150   \n",
       "1   37    Male   Atypical angina     130   250   Low       Normal       187   \n",
       "2   41  Female    Typical angina     130   204   Low  Hypertrophy       172   \n",
       "3   56    Male    Typical angina     120   236   Low       Normal       178   \n",
       "4   57  Female      Asymptomatic     120   354   Low       Normal       163   \n",
       "\n",
       "  exng  oldpeak           slp  output  \n",
       "0   No      2.3  Down-sloping       1  \n",
       "1   No      3.5  Down-sloping       1  \n",
       "2   No      1.4    Up-sloping       1  \n",
       "3   No      0.8    Up-sloping       1  \n",
       "4  Yes      0.6    Up-sloping       1  "
      ]
     },
     "execution_count": 148,
     "metadata": {},
     "output_type": "execute_result"
    }
   ],
   "source": [
    "data_without_ms= data_clean.drop(columns=['caa','thall'])\n",
    "data_without_ms.head()"
   ]
  },
  {
   "cell_type": "markdown",
   "metadata": {},
   "source": [
    "# 2) Spliting the data to Input and output:-"
   ]
  },
  {
   "cell_type": "code",
   "execution_count": 151,
   "metadata": {},
   "outputs": [
    {
     "data": {
      "text/html": [
       "<div>\n",
       "<style scoped>\n",
       "    .dataframe tbody tr th:only-of-type {\n",
       "        vertical-align: middle;\n",
       "    }\n",
       "\n",
       "    .dataframe tbody tr th {\n",
       "        vertical-align: top;\n",
       "    }\n",
       "\n",
       "    .dataframe thead th {\n",
       "        text-align: right;\n",
       "    }\n",
       "</style>\n",
       "<table border=\"1\" class=\"dataframe\">\n",
       "  <thead>\n",
       "    <tr style=\"text-align: right;\">\n",
       "      <th></th>\n",
       "      <th>age</th>\n",
       "      <th>sex</th>\n",
       "      <th>cp</th>\n",
       "      <th>trtbps</th>\n",
       "      <th>chol</th>\n",
       "      <th>fbs</th>\n",
       "      <th>restecg</th>\n",
       "      <th>thalachh</th>\n",
       "      <th>exng</th>\n",
       "      <th>oldpeak</th>\n",
       "      <th>slp</th>\n",
       "    </tr>\n",
       "  </thead>\n",
       "  <tbody>\n",
       "    <tr>\n",
       "      <th>0</th>\n",
       "      <td>63</td>\n",
       "      <td>Male</td>\n",
       "      <td>Non-anginal pain</td>\n",
       "      <td>145</td>\n",
       "      <td>233</td>\n",
       "      <td>High</td>\n",
       "      <td>Hypertrophy</td>\n",
       "      <td>150</td>\n",
       "      <td>No</td>\n",
       "      <td>2.3</td>\n",
       "      <td>Down-sloping</td>\n",
       "    </tr>\n",
       "    <tr>\n",
       "      <th>1</th>\n",
       "      <td>37</td>\n",
       "      <td>Male</td>\n",
       "      <td>Atypical angina</td>\n",
       "      <td>130</td>\n",
       "      <td>250</td>\n",
       "      <td>Low</td>\n",
       "      <td>Normal</td>\n",
       "      <td>187</td>\n",
       "      <td>No</td>\n",
       "      <td>3.5</td>\n",
       "      <td>Down-sloping</td>\n",
       "    </tr>\n",
       "    <tr>\n",
       "      <th>2</th>\n",
       "      <td>41</td>\n",
       "      <td>Female</td>\n",
       "      <td>Typical angina</td>\n",
       "      <td>130</td>\n",
       "      <td>204</td>\n",
       "      <td>Low</td>\n",
       "      <td>Hypertrophy</td>\n",
       "      <td>172</td>\n",
       "      <td>No</td>\n",
       "      <td>1.4</td>\n",
       "      <td>Up-sloping</td>\n",
       "    </tr>\n",
       "    <tr>\n",
       "      <th>3</th>\n",
       "      <td>56</td>\n",
       "      <td>Male</td>\n",
       "      <td>Typical angina</td>\n",
       "      <td>120</td>\n",
       "      <td>236</td>\n",
       "      <td>Low</td>\n",
       "      <td>Normal</td>\n",
       "      <td>178</td>\n",
       "      <td>No</td>\n",
       "      <td>0.8</td>\n",
       "      <td>Up-sloping</td>\n",
       "    </tr>\n",
       "    <tr>\n",
       "      <th>4</th>\n",
       "      <td>57</td>\n",
       "      <td>Female</td>\n",
       "      <td>Asymptomatic</td>\n",
       "      <td>120</td>\n",
       "      <td>354</td>\n",
       "      <td>Low</td>\n",
       "      <td>Normal</td>\n",
       "      <td>163</td>\n",
       "      <td>Yes</td>\n",
       "      <td>0.6</td>\n",
       "      <td>Up-sloping</td>\n",
       "    </tr>\n",
       "  </tbody>\n",
       "</table>\n",
       "</div>"
      ],
      "text/plain": [
       "   age     sex                cp  trtbps  chol   fbs      restecg  thalachh  \\\n",
       "0   63    Male  Non-anginal pain     145   233  High  Hypertrophy       150   \n",
       "1   37    Male   Atypical angina     130   250   Low       Normal       187   \n",
       "2   41  Female    Typical angina     130   204   Low  Hypertrophy       172   \n",
       "3   56    Male    Typical angina     120   236   Low       Normal       178   \n",
       "4   57  Female      Asymptomatic     120   354   Low       Normal       163   \n",
       "\n",
       "  exng  oldpeak           slp  \n",
       "0   No      2.3  Down-sloping  \n",
       "1   No      3.5  Down-sloping  \n",
       "2   No      1.4    Up-sloping  \n",
       "3   No      0.8    Up-sloping  \n",
       "4  Yes      0.6    Up-sloping  "
      ]
     },
     "execution_count": 151,
     "metadata": {},
     "output_type": "execute_result"
    }
   ],
   "source": [
    "data_input =data_without_ms.drop(columns=['output']) \n",
    "data_output =data_without_ms['output']\n",
    "data_input.head()"
   ]
  },
  {
   "cell_type": "markdown",
   "metadata": {},
   "source": [
    "# 3) Replacing categorical values:-"
   ]
  },
  {
   "cell_type": "markdown",
   "metadata": {},
   "source": [
    "   ##     1) Numeric encoding:-"
   ]
  },
  {
   "cell_type": "code",
   "execution_count": 156,
   "metadata": {},
   "outputs": [
    {
     "data": {
      "text/plain": [
       "age           int64\n",
       "sex          object\n",
       "cp           object\n",
       "trtbps        int64\n",
       "chol          int64\n",
       "fbs          object\n",
       "restecg      object\n",
       "thalachh      int64\n",
       "exng         object\n",
       "oldpeak     float64\n",
       "slp          object\n",
       "dtype: object"
      ]
     },
     "execution_count": 156,
     "metadata": {},
     "output_type": "execute_result"
    }
   ],
   "source": [
    "data_input.dtypes"
   ]
  },
  {
   "cell_type": "code",
   "execution_count": 160,
   "metadata": {},
   "outputs": [
    {
     "name": "stdout",
     "output_type": "stream",
     "text": [
      "['Male' 'Female']\n",
      "['Non-anginal pain' 'Atypical angina' 'Typical angina' 'Asymptomatic']\n",
      "['High' 'Low']\n",
      "['Hypertrophy' 'Normal' 'ST-T wave abnormality']\n",
      "['No' 'Yes']\n",
      "['Down-sloping' 'Up-sloping' 'Flat']\n"
     ]
    }
   ],
   "source": [
    "print( data['sex'].unique() )\n",
    "print( data['cp'].unique() )\n",
    "print( data['fbs'].unique() )\n",
    "print( data['restecg'].unique() )\n",
    "print( data['exng'].unique() )\n",
    "print( data ['slp'].unique() )"
   ]
  },
  {
   "cell_type": "code",
   "execution_count": 161,
   "metadata": {},
   "outputs": [],
   "source": [
    "data_input_encoded = data_input.replace({\n",
    "    \n",
    "    'sex': {'Male': 0, 'Female': 1},\n",
    "    'fbs': {'High': 0, 'Low': 1},\n",
    "    'exng': {'No': 0, 'Yes': 1},\n",
    "})\n",
    "   "
   ]
  },
  {
   "cell_type": "code",
   "execution_count": 162,
   "metadata": {},
   "outputs": [
    {
     "data": {
      "text/plain": [
       "age           int64\n",
       "sex           int64\n",
       "cp           object\n",
       "trtbps        int64\n",
       "chol          int64\n",
       "fbs           int64\n",
       "restecg      object\n",
       "thalachh      int64\n",
       "exng          int64\n",
       "oldpeak     float64\n",
       "slp          object\n",
       "dtype: object"
      ]
     },
     "execution_count": 162,
     "metadata": {},
     "output_type": "execute_result"
    }
   ],
   "source": [
    "data_input_encoded.dtypes"
   ]
  },
  {
   "cell_type": "markdown",
   "metadata": {},
   "source": [
    "## 2) One-hot Encoding:-"
   ]
  },
  {
   "cell_type": "code",
   "execution_count": 163,
   "metadata": {},
   "outputs": [],
   "source": [
    "one_hot_cols =pd.get_dummies(data_input_encoded,prefix='is') "
   ]
  },
  {
   "cell_type": "code",
   "execution_count": 164,
   "metadata": {},
   "outputs": [
    {
     "data": {
      "text/html": [
       "<div>\n",
       "<style scoped>\n",
       "    .dataframe tbody tr th:only-of-type {\n",
       "        vertical-align: middle;\n",
       "    }\n",
       "\n",
       "    .dataframe tbody tr th {\n",
       "        vertical-align: top;\n",
       "    }\n",
       "\n",
       "    .dataframe thead th {\n",
       "        text-align: right;\n",
       "    }\n",
       "</style>\n",
       "<table border=\"1\" class=\"dataframe\">\n",
       "  <thead>\n",
       "    <tr style=\"text-align: right;\">\n",
       "      <th></th>\n",
       "      <th>age</th>\n",
       "      <th>sex</th>\n",
       "      <th>trtbps</th>\n",
       "      <th>chol</th>\n",
       "      <th>fbs</th>\n",
       "      <th>thalachh</th>\n",
       "      <th>exng</th>\n",
       "      <th>oldpeak</th>\n",
       "      <th>is_Asymptomatic</th>\n",
       "      <th>is_Atypical angina</th>\n",
       "      <th>is_Non-anginal pain</th>\n",
       "      <th>is_Typical angina</th>\n",
       "      <th>is_Hypertrophy</th>\n",
       "      <th>is_Normal</th>\n",
       "      <th>is_ST-T wave abnormality</th>\n",
       "      <th>is_Down-sloping</th>\n",
       "      <th>is_Flat</th>\n",
       "      <th>is_Up-sloping</th>\n",
       "    </tr>\n",
       "  </thead>\n",
       "  <tbody>\n",
       "    <tr>\n",
       "      <th>0</th>\n",
       "      <td>63</td>\n",
       "      <td>0</td>\n",
       "      <td>145</td>\n",
       "      <td>233</td>\n",
       "      <td>0</td>\n",
       "      <td>150</td>\n",
       "      <td>0</td>\n",
       "      <td>2.3</td>\n",
       "      <td>0</td>\n",
       "      <td>0</td>\n",
       "      <td>1</td>\n",
       "      <td>0</td>\n",
       "      <td>1</td>\n",
       "      <td>0</td>\n",
       "      <td>0</td>\n",
       "      <td>1</td>\n",
       "      <td>0</td>\n",
       "      <td>0</td>\n",
       "    </tr>\n",
       "    <tr>\n",
       "      <th>1</th>\n",
       "      <td>37</td>\n",
       "      <td>0</td>\n",
       "      <td>130</td>\n",
       "      <td>250</td>\n",
       "      <td>1</td>\n",
       "      <td>187</td>\n",
       "      <td>0</td>\n",
       "      <td>3.5</td>\n",
       "      <td>0</td>\n",
       "      <td>1</td>\n",
       "      <td>0</td>\n",
       "      <td>0</td>\n",
       "      <td>0</td>\n",
       "      <td>1</td>\n",
       "      <td>0</td>\n",
       "      <td>1</td>\n",
       "      <td>0</td>\n",
       "      <td>0</td>\n",
       "    </tr>\n",
       "    <tr>\n",
       "      <th>2</th>\n",
       "      <td>41</td>\n",
       "      <td>1</td>\n",
       "      <td>130</td>\n",
       "      <td>204</td>\n",
       "      <td>1</td>\n",
       "      <td>172</td>\n",
       "      <td>0</td>\n",
       "      <td>1.4</td>\n",
       "      <td>0</td>\n",
       "      <td>0</td>\n",
       "      <td>0</td>\n",
       "      <td>1</td>\n",
       "      <td>1</td>\n",
       "      <td>0</td>\n",
       "      <td>0</td>\n",
       "      <td>0</td>\n",
       "      <td>0</td>\n",
       "      <td>1</td>\n",
       "    </tr>\n",
       "    <tr>\n",
       "      <th>3</th>\n",
       "      <td>56</td>\n",
       "      <td>0</td>\n",
       "      <td>120</td>\n",
       "      <td>236</td>\n",
       "      <td>1</td>\n",
       "      <td>178</td>\n",
       "      <td>0</td>\n",
       "      <td>0.8</td>\n",
       "      <td>0</td>\n",
       "      <td>0</td>\n",
       "      <td>0</td>\n",
       "      <td>1</td>\n",
       "      <td>0</td>\n",
       "      <td>1</td>\n",
       "      <td>0</td>\n",
       "      <td>0</td>\n",
       "      <td>0</td>\n",
       "      <td>1</td>\n",
       "    </tr>\n",
       "    <tr>\n",
       "      <th>4</th>\n",
       "      <td>57</td>\n",
       "      <td>1</td>\n",
       "      <td>120</td>\n",
       "      <td>354</td>\n",
       "      <td>1</td>\n",
       "      <td>163</td>\n",
       "      <td>1</td>\n",
       "      <td>0.6</td>\n",
       "      <td>1</td>\n",
       "      <td>0</td>\n",
       "      <td>0</td>\n",
       "      <td>0</td>\n",
       "      <td>0</td>\n",
       "      <td>1</td>\n",
       "      <td>0</td>\n",
       "      <td>0</td>\n",
       "      <td>0</td>\n",
       "      <td>1</td>\n",
       "    </tr>\n",
       "  </tbody>\n",
       "</table>\n",
       "</div>"
      ],
      "text/plain": [
       "   age  sex  trtbps  chol  fbs  thalachh  exng  oldpeak  is_Asymptomatic  \\\n",
       "0   63    0     145   233    0       150     0      2.3                0   \n",
       "1   37    0     130   250    1       187     0      3.5                0   \n",
       "2   41    1     130   204    1       172     0      1.4                0   \n",
       "3   56    0     120   236    1       178     0      0.8                0   \n",
       "4   57    1     120   354    1       163     1      0.6                1   \n",
       "\n",
       "   is_Atypical angina  is_Non-anginal pain  is_Typical angina  is_Hypertrophy  \\\n",
       "0                   0                    1                  0               1   \n",
       "1                   1                    0                  0               0   \n",
       "2                   0                    0                  1               1   \n",
       "3                   0                    0                  1               0   \n",
       "4                   0                    0                  0               0   \n",
       "\n",
       "   is_Normal  is_ST-T wave abnormality  is_Down-sloping  is_Flat  \\\n",
       "0          0                         0                1        0   \n",
       "1          1                         0                1        0   \n",
       "2          0                         0                0        0   \n",
       "3          1                         0                0        0   \n",
       "4          1                         0                0        0   \n",
       "\n",
       "   is_Up-sloping  \n",
       "0              0  \n",
       "1              0  \n",
       "2              1  \n",
       "3              1  \n",
       "4              1  "
      ]
     },
     "execution_count": 164,
     "metadata": {},
     "output_type": "execute_result"
    }
   ],
   "source": [
    "one_hot_cols.head()"
   ]
  },
  {
   "cell_type": "markdown",
   "metadata": {},
   "source": [
    "# 4) Spliting into (train - validation - test):-"
   ]
  },
  {
   "cell_type": "code",
   "execution_count": 177,
   "metadata": {},
   "outputs": [],
   "source": [
    "from sklearn.model_selection import train_test_split\n",
    "\n",
    "X, X_test, y, y_test = train_test_split(\n",
    "    \n",
    "        one_hot_cols, data_output, test_size=0.20, random_state=0\n",
    ")\n",
    "\n",
    "X_train, X_val, y_train, y_val = train_test_split(\n",
    "\n",
    "            X, y, test_size=0.25, random_state=0\n",
    ")"
   ]
  },
  {
   "cell_type": "code",
   "execution_count": 165,
   "metadata": {},
   "outputs": [
    {
     "name": "stdout",
     "output_type": "stream",
     "text": [
      "(181, 12)\n",
      "(181,)\n",
      "---------------------\n",
      "(61, 12)\n",
      "(61,)\n",
      "---------------------\n",
      "(61, 12)\n",
      "(61,)\n"
     ]
    }
   ],
   "source": [
    "print(X_train.shape)\n",
    "print(y_train.shape)\n",
    "print('---------------------')\n",
    "print(X_val.shape)\n",
    "print(y_val.shape)\n",
    "print('---------------------')\n",
    "print(X_test.shape)\n",
    "print(y_test.shape)"
   ]
  },
  {
   "cell_type": "markdown",
   "metadata": {},
   "source": [
    "# 5) Appling feature Scaling using MinMaxScaler:-"
   ]
  },
  {
   "cell_type": "code",
   "execution_count": 178,
   "metadata": {},
   "outputs": [
    {
     "data": {
      "text/plain": [
       "array([[0.68085106, 0.        , 0.43396226, 0.13975904, 1.        ,\n",
       "        0.51145038, 1.        , 0.30645161, 1.        , 0.        ,\n",
       "        0.        , 0.        , 1.        , 0.        , 0.        ,\n",
       "        0.        , 0.        , 1.        ],\n",
       "       [0.70212766, 0.        , 0.24528302, 0.28433735, 1.        ,\n",
       "        0.21374046, 1.        , 0.29032258, 1.        , 0.        ,\n",
       "        0.        , 0.        , 0.        , 1.        , 0.        ,\n",
       "        0.        , 1.        , 0.        ],\n",
       "       [0.70212766, 1.        , 0.62264151, 0.03614458, 1.        ,\n",
       "        0.5648855 , 0.        , 1.        , 1.        , 0.        ,\n",
       "        0.        , 0.        , 1.        , 0.        , 0.        ,\n",
       "        1.        , 0.        , 0.        ],\n",
       "       [0.78723404, 1.        , 0.49056604, 0.31084337, 1.        ,\n",
       "        0.61832061, 0.        , 0.        , 0.        , 1.        ,\n",
       "        0.        , 0.        , 1.        , 0.        , 0.        ,\n",
       "        0.        , 1.        , 0.        ],\n",
       "       [0.10638298, 1.        , 0.22641509, 0.14698795, 1.        ,\n",
       "        0.92366412, 0.        , 0.11290323, 0.        , 0.        ,\n",
       "        0.        , 1.        , 0.        , 1.        , 0.        ,\n",
       "        0.        , 0.        , 1.        ]])"
      ]
     },
     "execution_count": 178,
     "metadata": {},
     "output_type": "execute_result"
    }
   ],
   "source": [
    "from sklearn.preprocessing import MinMaxScaler\n",
    "\n",
    "scaler =MinMaxScaler()\n",
    "scaler.fit(X_train)\n",
    "\n",
    "X_train_scaled =scaler.transform(X_train)\n",
    "X_val_scaled = scaler.transform(X_val) \n",
    "X_test_scaled = scaler.transform(X_test)  \n",
    "X_train_scaled[:5]"
   ]
  },
  {
   "cell_type": "markdown",
   "metadata": {},
   "source": [
    "# 6) Training a (SVM) classifier :-"
   ]
  },
  {
   "cell_type": "markdown",
   "metadata": {},
   "source": [
    "## 1) Linear SVM:-"
   ]
  },
  {
   "cell_type": "code",
   "execution_count": 194,
   "metadata": {},
   "outputs": [],
   "source": [
    "from sklearn.svm import SVC\n",
    "from sklearn.metrics import accuracy_score"
   ]
  },
  {
   "cell_type": "code",
   "execution_count": 201,
   "metadata": {},
   "outputs": [
    {
     "data": {
      "text/plain": [
       "SVC(C=0.7, kernel='linear', random_state=0)"
      ]
     },
     "execution_count": 201,
     "metadata": {},
     "output_type": "execute_result"
    }
   ],
   "source": [
    "svc = SVC( kernel = 'linear', random_state = 0, C = 0.7)\n",
    "svc.fit ( X_train_scaled , y_train)"
   ]
  },
  {
   "cell_type": "code",
   "execution_count": 219,
   "metadata": {},
   "outputs": [
    {
     "name": "stdout",
     "output_type": "stream",
     "text": [
      "0.9717514124293786\n",
      "0.6949152542372882\n"
     ]
    }
   ],
   "source": [
    "y_pred_train = svc.predict(X_train_scaled)\n",
    "y_pred_val = svc.predict(X_val_scaled)\n",
    "\n",
    "print(accuracy_score(y_train, y_pred_train))\n",
    "print(accuracy_score(y_val, y_pred_val))"
   ]
  },
  {
   "cell_type": "markdown",
   "metadata": {},
   "source": [
    "## 2) Poly SVM:-"
   ]
  },
  {
   "cell_type": "code",
   "execution_count": 234,
   "metadata": {},
   "outputs": [
    {
     "name": "stdout",
     "output_type": "stream",
     "text": [
      "0.9096045197740112\n",
      "0.6949152542372882\n"
     ]
    }
   ],
   "source": [
    "svc = SVC(kernel='poly', degree=4, random_state=0, C=0.5)\n",
    "svc.fit(X_train_scaled, y_train)\n",
    "\n",
    "y_pred_train = svc.predict(X_train_scaled)\n",
    "y_pred_val = svc.predict(X_val_scaled)\n",
    "\n",
    "print(accuracy_score(y_train, y_pred_train))\n",
    "print(accuracy_score(y_val, y_pred_val))"
   ]
  },
  {
   "cell_type": "markdown",
   "metadata": {},
   "source": [
    "## 3) RBF SVM:-"
   ]
  },
  {
   "cell_type": "code",
   "execution_count": 235,
   "metadata": {},
   "outputs": [
    {
     "name": "stdout",
     "output_type": "stream",
     "text": [
      "0.8926553672316384\n",
      "0.6610169491525424\n"
     ]
    }
   ],
   "source": [
    "svc = SVC(kernel='rbf', gamma=0.02, random_state=0, C=100)\n",
    "svc.fit(X_train_scaled, y_train)\n",
    "\n",
    "y_pred_train = svc.predict(X_train_scaled)\n",
    "y_pred_val = svc.predict(X_val_scaled)\n",
    "\n",
    "print(accuracy_score(y_train, y_pred_train))\n",
    "print(accuracy_score(y_val, y_pred_val))"
   ]
  },
  {
   "cell_type": "markdown",
   "metadata": {},
   "source": [
    "# 8) Testing:- "
   ]
  },
  {
   "cell_type": "code",
   "execution_count": 236,
   "metadata": {},
   "outputs": [
    {
     "name": "stdout",
     "output_type": "stream",
     "text": [
      "0.85\n"
     ]
    }
   ],
   "source": [
    "y_pred_test = svc.predict(X_test_scaled)\n",
    "print(accuracy_score(y_test, y_pred_test))"
   ]
  },
  {
   "cell_type": "code",
   "execution_count": null,
   "metadata": {},
   "outputs": [],
   "source": []
  }
 ],
 "metadata": {
  "kernelspec": {
   "display_name": "Python 3",
   "language": "python",
   "name": "python3"
  },
  "language_info": {
   "codemirror_mode": {
    "name": "ipython",
    "version": 3
   },
   "file_extension": ".py",
   "mimetype": "text/x-python",
   "name": "python",
   "nbconvert_exporter": "python",
   "pygments_lexer": "ipython3",
   "version": "3.8.5"
  }
 },
 "nbformat": 4,
 "nbformat_minor": 5
}
